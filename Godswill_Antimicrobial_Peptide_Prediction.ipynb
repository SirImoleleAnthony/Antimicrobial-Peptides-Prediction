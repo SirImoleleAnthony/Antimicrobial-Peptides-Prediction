{
 "cells": [
  {
   "cell_type": "code",
   "execution_count": 3,
   "id": "c0107823",
   "metadata": {},
   "outputs": [
    {
     "name": "stdout",
     "output_type": "stream",
     "text": [
      "Requirement already satisfied: Biopython in c:\\users\\hp\\anaconda3\\lib\\site-packages (1.83)Note: you may need to restart the kernel to use updated packages.\n",
      "\n",
      "Requirement already satisfied: numpy in c:\\users\\hp\\anaconda3\\lib\\site-packages (from Biopython) (1.24.3)\n"
     ]
    }
   ],
   "source": [
    "pip install Biopython"
   ]
  },
  {
   "cell_type": "code",
   "execution_count": 2,
   "id": "e78a7d16",
   "metadata": {},
   "outputs": [
    {
     "data": {
      "text/html": [
       "<div>\n",
       "<style scoped>\n",
       "    .dataframe tbody tr th:only-of-type {\n",
       "        vertical-align: middle;\n",
       "    }\n",
       "\n",
       "    .dataframe tbody tr th {\n",
       "        vertical-align: top;\n",
       "    }\n",
       "\n",
       "    .dataframe thead th {\n",
       "        text-align: right;\n",
       "    }\n",
       "</style>\n",
       "<table border=\"1\" class=\"dataframe\">\n",
       "  <thead>\n",
       "    <tr style=\"text-align: right;\">\n",
       "      <th></th>\n",
       "      <th>ID</th>\n",
       "      <th>Description</th>\n",
       "      <th>Sequence</th>\n",
       "      <th>Label</th>\n",
       "    </tr>\n",
       "  </thead>\n",
       "  <tbody>\n",
       "    <tr>\n",
       "      <th>0</th>\n",
       "      <td>AMP_1</td>\n",
       "      <td>AMP_1</td>\n",
       "      <td>AACSDRAHGHICESFKSFCKDSGRNGVKLRANCKKTCGLC</td>\n",
       "      <td>Antimicrobial</td>\n",
       "    </tr>\n",
       "    <tr>\n",
       "      <th>1</th>\n",
       "      <td>AMP_2</td>\n",
       "      <td>AMP_2</td>\n",
       "      <td>AAEFPDFYDSEEQMGPHQEAEDEKDRADQRVLTEEEKKELENLAAM...</td>\n",
       "      <td>Antimicrobial</td>\n",
       "    </tr>\n",
       "    <tr>\n",
       "      <th>2</th>\n",
       "      <td>AMP_3</td>\n",
       "      <td>AMP_3</td>\n",
       "      <td>AAFFAQQKGLPTQQQNQVSPKAVSMIVNLEGCVRNPYKCPADVWTN...</td>\n",
       "      <td>Antimicrobial</td>\n",
       "    </tr>\n",
       "    <tr>\n",
       "      <th>3</th>\n",
       "      <td>AMP_4</td>\n",
       "      <td>AMP_4</td>\n",
       "      <td>AAFRGCWTKNYSPKPCL</td>\n",
       "      <td>Antimicrobial</td>\n",
       "    </tr>\n",
       "    <tr>\n",
       "      <th>4</th>\n",
       "      <td>AMP_5</td>\n",
       "      <td>AMP_5</td>\n",
       "      <td>AAGMGFFGAR</td>\n",
       "      <td>Antimicrobial</td>\n",
       "    </tr>\n",
       "  </tbody>\n",
       "</table>\n",
       "</div>"
      ],
      "text/plain": [
       "      ID Description                                           Sequence  \\\n",
       "0  AMP_1       AMP_1           AACSDRAHGHICESFKSFCKDSGRNGVKLRANCKKTCGLC   \n",
       "1  AMP_2       AMP_2  AAEFPDFYDSEEQMGPHQEAEDEKDRADQRVLTEEEKKELENLAAM...   \n",
       "2  AMP_3       AMP_3  AAFFAQQKGLPTQQQNQVSPKAVSMIVNLEGCVRNPYKCPADVWTN...   \n",
       "3  AMP_4       AMP_4                                  AAFRGCWTKNYSPKPCL   \n",
       "4  AMP_5       AMP_5                                         AAGMGFFGAR   \n",
       "\n",
       "           Label  \n",
       "0  Antimicrobial  \n",
       "1  Antimicrobial  \n",
       "2  Antimicrobial  \n",
       "3  Antimicrobial  \n",
       "4  Antimicrobial  "
      ]
     },
     "execution_count": 2,
     "metadata": {},
     "output_type": "execute_result"
    }
   ],
   "source": [
    "from Bio import SeqIO\n",
    "import pandas as pd\n",
    "\n",
    "# IMPORT THE FIRST DATASET \n",
    "# Replace 'your_fasta_file.fasta' with the actual filename\n",
    "fasta_file = 'train_AMP_3268.fasta'\n",
    "\n",
    "# Parse the FASTA file and create a list of dictionaries\n",
    "fasta_data = []\n",
    "for record in SeqIO.parse(fasta_file, 'fasta'):\n",
    "    fasta_data.append({\n",
    "        'ID': record.id,\n",
    "        'Description': record.description,\n",
    "        'Sequence': str(record.seq),\n",
    "    })\n",
    "\n",
    "# Convert the list of dictionaries to a DataFrame\n",
    "Anti_df = pd.DataFrame(fasta_data)\n",
    "\n",
    "# add a label to the antimicrobial peptide\n",
    "Anti_df[\"Label\"] = \"Antimicrobial\"\n",
    "\n",
    "# Display the DataFrame\n",
    "Anti_df.head()\n"
   ]
  },
  {
   "cell_type": "code",
   "execution_count": 3,
   "id": "a1f0234c",
   "metadata": {},
   "outputs": [
    {
     "name": "stdout",
     "output_type": "stream",
     "text": [
      "<class 'pandas.core.frame.DataFrame'>\n",
      "RangeIndex: 3268 entries, 0 to 3267\n",
      "Data columns (total 4 columns):\n",
      " #   Column       Non-Null Count  Dtype \n",
      "---  ------       --------------  ----- \n",
      " 0   ID           3268 non-null   object\n",
      " 1   Description  3268 non-null   object\n",
      " 2   Sequence     3268 non-null   object\n",
      " 3   Label        3268 non-null   object\n",
      "dtypes: object(4)\n",
      "memory usage: 102.3+ KB\n"
     ]
    }
   ],
   "source": [
    "Anti_df.info()"
   ]
  },
  {
   "cell_type": "code",
   "execution_count": 4,
   "id": "d6993326",
   "metadata": {},
   "outputs": [
    {
     "name": "stdout",
     "output_type": "stream",
     "text": [
      "         ID Description                                           Sequence  \\\n",
      "0  nonamp_1    nonamp_1  MNNNTTAPTYTLRGLQLIGWRDMQHALDYLFADGHLKQGTLVAINA...   \n",
      "1  nonamp_2    nonamp_2  MKSLLPLAILAALAVAALCYESHESMESYEVSPFTTRRNANTFISP...   \n",
      "2  nonamp_3    nonamp_3  MASVTDGKTGIKDASDQNFDYMFKLLIIGNSSVGKTSFLFRYADDT...   \n",
      "3  nonamp_4    nonamp_4  MASFQDRAQHTIAQLDKELSKYPVLNNLERQTSVPKVYVILGLVGI...   \n",
      "4  nonamp_5    nonamp_5  MRHRSGLRKLNRTSSHRQAMFRNMANSLLRHEVIKTTLPKAKELRR...   \n",
      "\n",
      "               Label  \n",
      "0  Non-Antimicrobial  \n",
      "1  Non-Antimicrobial  \n",
      "2  Non-Antimicrobial  \n",
      "3  Non-Antimicrobial  \n",
      "4  Non-Antimicrobial  \n"
     ]
    }
   ],
   "source": [
    "# Replace 'your_fasta_file.fasta' with the actual filename\n",
    "fasta_file = 'train_nonAMP_9777.fasta'\n",
    "\n",
    "# Parse the FASTA file and create a list of dictionaries\n",
    "fasta_data = []\n",
    "for record in SeqIO.parse(fasta_file, 'fasta'):\n",
    "    fasta_data.append({\n",
    "        'ID': record.id,\n",
    "        'Description': record.description,\n",
    "        'Sequence': str(record.seq),\n",
    "    })\n",
    "\n",
    "# Convert the list of dictionaries to a DataFrame\n",
    "non_Anti_df = pd.DataFrame(fasta_data)\n",
    "\n",
    "# add a label to the antimicrobial peptide\n",
    "non_Anti_df[\"Label\"] = \"Non-Antimicrobial\"\n",
    "\n",
    "# Display the DataFrame\n",
    "print(non_Anti_df.head())\n"
   ]
  },
  {
   "cell_type": "code",
   "execution_count": 5,
   "id": "554011bb",
   "metadata": {},
   "outputs": [
    {
     "name": "stdout",
     "output_type": "stream",
     "text": [
      "<class 'pandas.core.frame.DataFrame'>\n",
      "RangeIndex: 9777 entries, 0 to 9776\n",
      "Data columns (total 4 columns):\n",
      " #   Column       Non-Null Count  Dtype \n",
      "---  ------       --------------  ----- \n",
      " 0   ID           9777 non-null   object\n",
      " 1   Description  9777 non-null   object\n",
      " 2   Sequence     9777 non-null   object\n",
      " 3   Label        9777 non-null   object\n",
      "dtypes: object(4)\n",
      "memory usage: 305.7+ KB\n"
     ]
    }
   ],
   "source": [
    "non_Anti_df.info()"
   ]
  },
  {
   "cell_type": "code",
   "execution_count": 6,
   "id": "15f4530b",
   "metadata": {},
   "outputs": [],
   "source": [
    "merged_df = pd.concat([Anti_df, non_Anti_df])\n"
   ]
  },
  {
   "cell_type": "code",
   "execution_count": 7,
   "id": "0f4edbcc",
   "metadata": {
    "scrolled": true
   },
   "outputs": [],
   "source": [
    "merged_df.reset_index(drop= True, inplace= True)"
   ]
  },
  {
   "cell_type": "code",
   "execution_count": 8,
   "id": "fe68d881",
   "metadata": {},
   "outputs": [
    {
     "data": {
      "text/html": [
       "<div>\n",
       "<style scoped>\n",
       "    .dataframe tbody tr th:only-of-type {\n",
       "        vertical-align: middle;\n",
       "    }\n",
       "\n",
       "    .dataframe tbody tr th {\n",
       "        vertical-align: top;\n",
       "    }\n",
       "\n",
       "    .dataframe thead th {\n",
       "        text-align: right;\n",
       "    }\n",
       "</style>\n",
       "<table border=\"1\" class=\"dataframe\">\n",
       "  <thead>\n",
       "    <tr style=\"text-align: right;\">\n",
       "      <th></th>\n",
       "      <th>ID</th>\n",
       "      <th>Description</th>\n",
       "      <th>Sequence</th>\n",
       "      <th>Label</th>\n",
       "    </tr>\n",
       "  </thead>\n",
       "  <tbody>\n",
       "    <tr>\n",
       "      <th>0</th>\n",
       "      <td>AMP_1</td>\n",
       "      <td>AMP_1</td>\n",
       "      <td>AACSDRAHGHICESFKSFCKDSGRNGVKLRANCKKTCGLC</td>\n",
       "      <td>Antimicrobial</td>\n",
       "    </tr>\n",
       "    <tr>\n",
       "      <th>1</th>\n",
       "      <td>AMP_2</td>\n",
       "      <td>AMP_2</td>\n",
       "      <td>AAEFPDFYDSEEQMGPHQEAEDEKDRADQRVLTEEEKKELENLAAM...</td>\n",
       "      <td>Antimicrobial</td>\n",
       "    </tr>\n",
       "    <tr>\n",
       "      <th>2</th>\n",
       "      <td>AMP_3</td>\n",
       "      <td>AMP_3</td>\n",
       "      <td>AAFFAQQKGLPTQQQNQVSPKAVSMIVNLEGCVRNPYKCPADVWTN...</td>\n",
       "      <td>Antimicrobial</td>\n",
       "    </tr>\n",
       "    <tr>\n",
       "      <th>3</th>\n",
       "      <td>AMP_4</td>\n",
       "      <td>AMP_4</td>\n",
       "      <td>AAFRGCWTKNYSPKPCL</td>\n",
       "      <td>Antimicrobial</td>\n",
       "    </tr>\n",
       "    <tr>\n",
       "      <th>4</th>\n",
       "      <td>AMP_5</td>\n",
       "      <td>AMP_5</td>\n",
       "      <td>AAGMGFFGAR</td>\n",
       "      <td>Antimicrobial</td>\n",
       "    </tr>\n",
       "  </tbody>\n",
       "</table>\n",
       "</div>"
      ],
      "text/plain": [
       "      ID Description                                           Sequence  \\\n",
       "0  AMP_1       AMP_1           AACSDRAHGHICESFKSFCKDSGRNGVKLRANCKKTCGLC   \n",
       "1  AMP_2       AMP_2  AAEFPDFYDSEEQMGPHQEAEDEKDRADQRVLTEEEKKELENLAAM...   \n",
       "2  AMP_3       AMP_3  AAFFAQQKGLPTQQQNQVSPKAVSMIVNLEGCVRNPYKCPADVWTN...   \n",
       "3  AMP_4       AMP_4                                  AAFRGCWTKNYSPKPCL   \n",
       "4  AMP_5       AMP_5                                         AAGMGFFGAR   \n",
       "\n",
       "           Label  \n",
       "0  Antimicrobial  \n",
       "1  Antimicrobial  \n",
       "2  Antimicrobial  \n",
       "3  Antimicrobial  \n",
       "4  Antimicrobial  "
      ]
     },
     "execution_count": 8,
     "metadata": {},
     "output_type": "execute_result"
    }
   ],
   "source": [
    "merged_df.head()"
   ]
  },
  {
   "cell_type": "code",
   "execution_count": 9,
   "id": "dde152d1",
   "metadata": {},
   "outputs": [
    {
     "name": "stdout",
     "output_type": "stream",
     "text": [
      "<class 'pandas.core.frame.DataFrame'>\n",
      "RangeIndex: 13045 entries, 0 to 13044\n",
      "Data columns (total 4 columns):\n",
      " #   Column       Non-Null Count  Dtype \n",
      "---  ------       --------------  ----- \n",
      " 0   ID           13045 non-null  object\n",
      " 1   Description  13045 non-null  object\n",
      " 2   Sequence     13045 non-null  object\n",
      " 3   Label        13045 non-null  object\n",
      "dtypes: object(4)\n",
      "memory usage: 407.8+ KB\n"
     ]
    }
   ],
   "source": [
    "merged_df.info()"
   ]
  },
  {
   "cell_type": "code",
   "execution_count": 10,
   "id": "fb074a64",
   "metadata": {},
   "outputs": [
    {
     "data": {
      "text/plain": [
       "Non-Antimicrobial    9777\n",
       "Antimicrobial        3268\n",
       "Name: Label, dtype: int64"
      ]
     },
     "execution_count": 10,
     "metadata": {},
     "output_type": "execute_result"
    }
   ],
   "source": [
    "merged_df['Label'].value_counts()"
   ]
  },
  {
   "cell_type": "code",
   "execution_count": 14,
   "id": "4b08ebd4",
   "metadata": {},
   "outputs": [
    {
     "data": {
      "image/png": "[encoded data removed]",
      "text/plain": [
       "<Figure size 640x480 with 1 Axes>"
      ]
     },
     "metadata": {},
     "output_type": "display_data"
    }
   ],
   "source": [
    "# Bar chart of the value count of `Label` column\n",
    "import seaborn as sns\n",
    "import matplotlib.pyplot as plt\n",
    "\n",
    "sns.countplot(x='Label', data=merged_df)\n",
    "plt.title('Distribution of Labels in AMP Dataset')\n",
    "plt.xlabel('Label')\n",
    "plt.ylabel('Count')\n",
    "plt.show()\n"
   ]
  },
  {
   "cell_type": "code",
   "execution_count": null,
   "id": "b59d1259",
   "metadata": {},
   "outputs": [],
   "source": []
  },
  {
   "cell_type": "code",
   "execution_count": 9,
   "id": "ce95f4af",
   "metadata": {},
   "outputs": [],
   "source": [
    "merged_df.to_csv(\"AMP.csv\")"
   ]
  },
  {
   "cell_type": "code",
   "execution_count": 11,
   "id": "f641ce7e",
   "metadata": {},
   "outputs": [
    {
     "name": "stdout",
     "output_type": "stream",
     "text": [
      "Feature names (k-mers): ['a' 'aa' 'aaa' ... 'yyv' 'yyw' 'yyy']\n",
      "Extracted features:\n",
      "[[ 4  1  0 ...  0  0  0]\n",
      " [ 7  2  0 ...  0  0  0]\n",
      " [15  2  0 ...  0  0  0]\n",
      " ...\n",
      " [ 7  0  0 ...  0  0  0]\n",
      " [ 4  0  0 ...  0  0  0]\n",
      " [ 8  0  0 ...  0  0  0]]\n"
     ]
    }
   ],
   "source": [
    "from Bio.Seq import Seq\n",
    "from Bio.SeqRecord import SeqRecord\n",
    "from sklearn.model_selection import train_test_split\n",
    "from sklearn.feature_extraction.text import CountVectorizer\n",
    "from sklearn.svm import SVC\n",
    "from sklearn.metrics import accuracy_score, classification_report\n",
    "\n",
    "\n",
    "# Extract sequences\n",
    "# Convert sequences to k-mer counts\n",
    "vectorizer = CountVectorizer(analyzer='char', ngram_range=(1, 3))  # Adjust k-mer size as needed\n",
    "X_features = vectorizer.fit_transform(merged_df['Sequence'])\n",
    "\n",
    "# Display feature names (k-mers)\n",
    "feature_names = vectorizer.get_feature_names_out()\n",
    "print(\"Feature names (k-mers):\", feature_names)\n",
    "\n",
    "# Display the extracted features\n",
    "print(\"Extracted features:\")\n",
    "print(X_features.toarray())\n"
   ]
  },
  {
   "cell_type": "code",
   "execution_count": 12,
   "id": "42967838",
   "metadata": {},
   "outputs": [],
   "source": [
    "X = X_features\n",
    "y = merged_df['Label']\n"
   ]
  },
  {
   "cell_type": "code",
   "execution_count": 13,
   "id": "50d7afa8",
   "metadata": {},
   "outputs": [],
   "source": [
    "X_train, X_test, y_train, y_test = train_test_split(X, y, test_size=0.2, random_state=42)\n"
   ]
  },
  {
   "cell_type": "code",
   "execution_count": 14,
   "id": "82652e26",
   "metadata": {},
   "outputs": [
    {
     "data": {
      "text/html": [
       "<style>#sk-container-id-1 {color: black;}#sk-container-id-1 pre{padding: 0;}#sk-container-id-1 div.sk-toggleable {background-color: white;}#sk-container-id-1 label.sk-toggleable__label {cursor: pointer;display: block;width: 100%;margin-bottom: 0;padding: 0.3em;box-sizing: border-box;text-align: center;}#sk-container-id-1 label.sk-toggleable__label-arrow:before {content: \"▸\";float: left;margin-right: 0.25em;color: #696969;}#sk-container-id-1 label.sk-toggleable__label-arrow:hover:before {color: black;}#sk-container-id-1 div.sk-estimator:hover label.sk-toggleable__label-arrow:before {color: black;}#sk-container-id-1 div.sk-toggleable__content {max-height: 0;max-width: 0;overflow: hidden;text-align: left;background-color: #f0f8ff;}#sk-container-id-1 div.sk-toggleable__content pre {margin: 0.2em;color: black;border-radius: 0.25em;background-color: #f0f8ff;}#sk-container-id-1 input.sk-toggleable__control:checked~div.sk-toggleable__content {max-height: 200px;max-width: 100%;overflow: auto;}#sk-container-id-1 input.sk-toggleable__control:checked~label.sk-toggleable__label-arrow:before {content: \"▾\";}#sk-container-id-1 div.sk-estimator input.sk-toggleable__control:checked~label.sk-toggleable__label {background-color: #d4ebff;}#sk-container-id-1 div.sk-label input.sk-toggleable__control:checked~label.sk-toggleable__label {background-color: #d4ebff;}#sk-container-id-1 input.sk-hidden--visually {border: 0;clip: rect(1px 1px 1px 1px);clip: rect(1px, 1px, 1px, 1px);height: 1px;margin: -1px;overflow: hidden;padding: 0;position: absolute;width: 1px;}#sk-container-id-1 div.sk-estimator {font-family: monospace;background-color: #f0f8ff;border: 1px dotted black;border-radius: 0.25em;box-sizing: border-box;margin-bottom: 0.5em;}#sk-container-id-1 div.sk-estimator:hover {background-color: #d4ebff;}#sk-container-id-1 div.sk-parallel-item::after {content: \"\";width: 100%;border-bottom: 1px solid gray;flex-grow: 1;}#sk-container-id-1 div.sk-label:hover label.sk-toggleable__label {background-color: #d4ebff;}#sk-container-id-1 div.sk-serial::before {content: \"\";position: absolute;border-left: 1px solid gray;box-sizing: border-box;top: 0;bottom: 0;left: 50%;z-index: 0;}#sk-container-id-1 div.sk-serial {display: flex;flex-direction: column;align-items: center;background-color: white;padding-right: 0.2em;padding-left: 0.2em;position: relative;}#sk-container-id-1 div.sk-item {position: relative;z-index: 1;}#sk-container-id-1 div.sk-parallel {display: flex;align-items: stretch;justify-content: center;background-color: white;position: relative;}#sk-container-id-1 div.sk-item::before, #sk-container-id-1 div.sk-parallel-item::before {content: \"\";position: absolute;border-left: 1px solid gray;box-sizing: border-box;top: 0;bottom: 0;left: 50%;z-index: -1;}#sk-container-id-1 div.sk-parallel-item {display: flex;flex-direction: column;z-index: 1;position: relative;background-color: white;}#sk-container-id-1 div.sk-parallel-item:first-child::after {align-self: flex-end;width: 50%;}#sk-container-id-1 div.sk-parallel-item:last-child::after {align-self: flex-start;width: 50%;}#sk-container-id-1 div.sk-parallel-item:only-child::after {width: 0;}#sk-container-id-1 div.sk-dashed-wrapped {border: 1px dashed gray;margin: 0 0.4em 0.5em 0.4em;box-sizing: border-box;padding-bottom: 0.4em;background-color: white;}#sk-container-id-1 div.sk-label label {font-family: monospace;font-weight: bold;display: inline-block;line-height: 1.2em;}#sk-container-id-1 div.sk-label-container {text-align: center;}#sk-container-id-1 div.sk-container {/* jupyter's `normalize.less` sets `[hidden] { display: none; }` but bootstrap.min.css set `[hidden] { display: none !important; }` so we also need the `!important` here to be able to override the default hidden behavior on the sphinx rendered scikit-learn.org. See: https://github.com/scikit-learn/scikit-learn/issues/21755 */display: inline-block !important;position: relative;}#sk-container-id-1 div.sk-text-repr-fallback {display: none;}</style><div id=\"sk-container-id-1\" class=\"sk-top-container\"><div class=\"sk-text-repr-fallback\"><pre>SVC(kernel=&#x27;linear&#x27;)</pre><b>In a Jupyter environment, please rerun this cell to show the HTML representation or trust the notebook. <br />On GitHub, the HTML representation is unable to render, please try loading this page with nbviewer.org.</b></div><div class=\"sk-container\" hidden><div class=\"sk-item\"><div class=\"sk-estimator sk-toggleable\"><input class=\"sk-toggleable__control sk-hidden--visually\" id=\"sk-estimator-id-1\" type=\"checkbox\" checked><label for=\"sk-estimator-id-1\" class=\"sk-toggleable__label sk-toggleable__label-arrow\">SVC</label><div class=\"sk-toggleable__content\"><pre>SVC(kernel=&#x27;linear&#x27;)</pre></div></div></div></div></div>"
      ],
      "text/plain": [
       "SVC(kernel='linear')"
      ]
     },
     "execution_count": 14,
     "metadata": {},
     "output_type": "execute_result"
    }
   ],
   "source": [
    "clf = SVC(kernel='linear')\n",
    "clf.fit(X_train, y_train)\n"
   ]
  },
  {
   "cell_type": "code",
   "execution_count": 15,
   "id": "4f107f26",
   "metadata": {},
   "outputs": [],
   "source": [
    "pred = clf.predict(X_test)"
   ]
  },
  {
   "cell_type": "code",
   "execution_count": 16,
   "id": "907ec636",
   "metadata": {},
   "outputs": [
    {
     "data": {
      "text/plain": [
       "array(['Non-Antimicrobial', 'Antimicrobial', 'Antimicrobial', ...,\n",
       "       'Non-Antimicrobial', 'Non-Antimicrobial', 'Antimicrobial'],\n",
       "      dtype=object)"
      ]
     },
     "execution_count": 16,
     "metadata": {},
     "output_type": "execute_result"
    }
   ],
   "source": [
    "pred"
   ]
  },
  {
   "cell_type": "code",
   "execution_count": 17,
   "id": "ee3e721f",
   "metadata": {},
   "outputs": [
    {
     "name": "stdout",
     "output_type": "stream",
     "text": [
      "Accuracy: 0.9490226140283634\n",
      "Classification Report:\n",
      "                    precision    recall  f1-score   support\n",
      "\n",
      "    Antimicrobial       0.89      0.91      0.90       671\n",
      "Non-Antimicrobial       0.97      0.96      0.97      1938\n",
      "\n",
      "         accuracy                           0.95      2609\n",
      "        macro avg       0.93      0.94      0.93      2609\n",
      "     weighted avg       0.95      0.95      0.95      2609\n",
      "\n"
     ]
    }
   ],
   "source": [
    "# Evaluate the accuracy of the model\n",
    "accuracy = accuracy_score(y_test, pred)\n",
    "report = classification_report(y_test, pred)\n",
    "\n",
    "print(f\"Accuracy: {accuracy}\")\n",
    "print(\"Classification Report:\\n\", report)\n"
   ]
  },
  {
   "cell_type": "code",
   "execution_count": 18,
   "id": "26ff47fa",
   "metadata": {},
   "outputs": [],
   "source": [
    "new_sequence = [\"DFLKKGLKKSLG\"]\n",
    "new_sequence_vectorized = vectorizer.transform(new_sequence)\n",
    "prediction = clf.predict(new_sequence_vectorized)\n"
   ]
  },
  {
   "cell_type": "code",
   "execution_count": 19,
   "id": "e7b3463f",
   "metadata": {},
   "outputs": [
    {
     "data": {
      "text/plain": [
       "array(['Antimicrobial'], dtype=object)"
      ]
     },
     "execution_count": 19,
     "metadata": {},
     "output_type": "execute_result"
    }
   ],
   "source": [
    "prediction"
   ]
  },
  {
   "cell_type": "code",
   "execution_count": null,
   "id": "58f7404c",
   "metadata": {},
   "outputs": [],
   "source": []
  }
 ],
 "metadata": {
  "kernelspec": {
   "display_name": "Python 3 (ipykernel)",
   "language": "python",
   "name": "python3"
  },
  "language_info": {
   "codemirror_mode": {
    "name": "ipython",
    "version": 3
   },
   "file_extension": ".py",
   "mimetype": "text/x-python",
   "name": "python",
   "nbconvert_exporter": "python",
   "pygments_lexer": "ipython3",
   "version": "3.11.4"
  }
 },
 "nbformat": 4,
 "nbformat_minor": 5
}
